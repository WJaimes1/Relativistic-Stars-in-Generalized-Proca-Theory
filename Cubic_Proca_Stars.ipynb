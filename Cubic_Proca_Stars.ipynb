{
 "cells": [
  {
   "cell_type": "code",
   "execution_count": 1,
   "metadata": {},
   "outputs": [],
   "source": [
    "import numpy as np\n",
    "from scipy.integrate import ode\n",
    "from scipy.constants import pi, hbar, m_n\n",
    "%matplotlib inline\n",
    "import matplotlib.pyplot as plt\n",
    "import math"
   ]
  },
  {
   "cell_type": "code",
   "execution_count": 2,
   "metadata": {},
   "outputs": [],
   "source": [
    "def vf1(x,A0t,f,h,u,w0):\n",
    "    return np.sqrt(-((A0t*(2*f*h*u*x+A0t*(h*u**2*x**2+f*(-1+h-8*pi*w0*x**2))))/(f*h*(-(h*u**2*x**2)+f*(1+3*h+8*pi*w0*x**2)))))"
   ]
  },
  {
   "cell_type": "code",
   "execution_count": 3,
   "metadata": {},
   "outputs": [],
   "source": [
    "#equation of state\n",
    "def inveos(w0):\n",
    "    return (((w0/k)**(1/Gamma))+(w0/(Gamma-1)))"
   ]
  },
  {
   "cell_type": "code",
   "execution_count": 4,
   "metadata": {},
   "outputs": [],
   "source": [
    "def feqs1(x,z): #Field equations for the interior of the star\n",
    "    w0, m, A0t, u, f, h = z\n",
    "    y=inveos(w0)\n",
    "    dmdx=3*y*x**2\n",
    "    dfdx=-(f/x) + f/(h*x) - (u**2*x)/2. + (8*f*pi*w0*x)/h\n",
    "    dw0dx=-(dfdx*(w0 + y))/(2.*f)\n",
    "    dA0tdx=u\n",
    "    dudx=(-4*A0t*B3t*f**2*h**2*u**2*x**2*(4*f + dfdx*x)*(4*f + x*(dfdx + u**2*x)) + \n",
    "           8*A0t**4*B3t*f**2*h*u*x*(h*x*(8*dfdx - u**2*x) + 2*f*(3 + h + 40*pi*w0*x**2 + 8*dw0dx*pi*x**3)) + \n",
    "           2*h*u*math.sqrt(A0t*(A0t*dfdx - 2*f*u)*x)*(4*f + dfdx*x)**2*math.sqrt(f*h*(4*f + dfdx*x))*\n",
    "            ((h*x*(2*dfdx + u**2*x))/2. - f*(1 + 3*h - 8*pi*x**2*y)) + \n",
    "           4*A0t**2*B3t*f**2*u*x*((h*x**2*(-(h*(2*dfdx**2 + 7*dfdx*u**2*x + u**4*x**2)) + dfdx*(2*dfdx + u**2*x)*(1 + 8*pi*w0*x**2)))/\n",
    "               2. + f*x*(-(h**2*(23*dfdx + 29*u**2*x)) + \n",
    "                 h*(4*dfdx*(1 + 12*pi*w0*x**2 + 2*dw0dx*pi*x**3) + u**2*(5*x + 56*pi*w0*x**3 + 8*dw0dx*pi*x**4)) + \n",
    "                 dfdx*(-1 - 8*pi*w0*x**2)*(1 - 8*pi*x**2*y)) - \n",
    "              4*f**2*(19*h**2 - 8*h*pi*x**2*(2*w0 + dw0dx*x) + (1 + 8*pi*w0*x**2)*(1 - 8*pi*x**2*y))) + \n",
    "           8*A0t**3*B3t*f**2*(-(h*x**2*(h*(-8*dfdx**2 - 5*dfdx*u**2*x + 2*u**4*x**2) + dfdx*(2*dfdx + u**2*x)*(-1 - 8*pi*w0*x**2)))/2. + \n",
    "              f*x*(h**2*(17*dfdx - 20*u**2*x) + 4*h*(dfdx + 2*u**2*x)*(1 + 12*pi*w0*x**2 + 2*dw0dx*pi*x**3) + \n",
    "                 dfdx*(-1 - 8*pi*w0*x**2)*(1 - 8*pi*x**2*y)) + \n",
    "              4*f**2*(h**2 + 8*h*pi*x**2*(2*w0 + dw0dx*x) - (1 + 8*pi*w0*x**2)*(1 - 8*pi*x**2*y))))/(4.*f*h*x*(h*math.sqrt(A0t*(A0t*dfdx - 2*f*u)*x)*(4*f + dfdx*x)**2*math.sqrt(f*h*(4*f + dfdx*x)) + \n",
    "             4*A0t**3*B3t*f*u*x**2*(h*x*(dfdx + u**2*x) + 2*f*(-1 + 2*h - 8*pi*w0*x**2)) + \n",
    "             4*A0t**4*B3t*f*x*(h*u**2*x**2 - 2*f*(1 + 8*pi*w0*x**2)) + \n",
    "             A0t**2*B3t*f*x*(16*f**2*h + h*x**2*(dfdx + u**2*x)**2 + 2*f*x*(4*dfdx*h - u**2*x*(1 - 4*h + 8*pi*w0*x**2)))))\n",
    "    dhdx=-(h*(4*A0t*B3t*f**2*h*u**3*x**4*(4*f + dfdx*x) - \n",
    "              8*A0t**4*B3t*f**2*x*(2*f*(-1 + h + 8*pi*w0*x**2 + 8*dw0dx*pi*x**3) + \n",
    "                 x*(-(h*(-8*dfdx + u**2*x + 2*dudx*u*x**2)) + 2*dfdx*(1 + 8*pi*w0*x**2))) + \n",
    "              8*A0t**3*B3t*f**2*x**2*(x*(h*(-3*dfdx*u + dfdx*dudx*x + u**3*x + 2*dudx*u**2*x**2) - 2*dfdx*u*(1 + 8*pi*w0*x**2)) + \n",
    "                 2*f*(2*dudx*h*x + u*(1 + 9*h - 8*pi*w0*x**2 - 8*dw0dx*pi*x**3))) + \n",
    "              2*A0t**2*B3t*f**2*u*x**3*(x*(h*(6*dfdx*u + 2*dfdx*dudx*x + u**3*x + 2*dudx*u**2*x**2) - 2*dfdx*u*(1 + 8*pi*w0*x**2)) + \n",
    "                 2*f*(4*dudx*h*x + u*(1 + 27*h - 8*pi*w0*x**2 - 8*dw0dx*pi*x**3))) - \n",
    "              math.sqrt(A0t*(A0t*dfdx - 2*f*u)*x)*(4*f + dfdx*x)**2*math.sqrt(f*h*(4*f + dfdx*x))*(h*u**2*x**2 + 2*f*(-1 + h + 8*pi*x**2*y))))/(2.*f*x*(-(h*math.sqrt(A0t*(A0t*dfdx - 2*f*u)*x)*(4*f + dfdx*x)**2*math.sqrt(f*h*(4*f + dfdx*x))) + \n",
    "             8*A0t**4*B3t*f**2*x*(1 + 8*pi*w0*x**2) + 8*A0t**3*B3t*f**2*u*x**2*(1 + 8*pi*w0*x**2) + \n",
    "             2*A0t**2*B3t*f**2*u**2*x**3*(1 + 8*pi*w0*x**2)))\n",
    "    return np.array([dw0dx, dmdx, dA0tdx, dudx, dfdx, dhdx])"
   ]
  },
  {
   "cell_type": "code",
   "execution_count": 5,
   "metadata": {},
   "outputs": [],
   "source": [
    "def feqs2(x,z): #Field equations for the exterior of the star\n",
    "    w0, m, A0t, u, f, h = z\n",
    "    y=0\n",
    "    dmdx=0\n",
    "    dfdx=-(f/x) + f/(h*x) - (u**2*x)/2. + (8*f*pi*w0*x)/h\n",
    "    dw0dx=0\n",
    "    dA0tdx=u\n",
    "    dudx=(-4*A0t*B3t*f**2*h**2*u**2*x**2*(4*f + dfdx*x)*(4*f + x*(dfdx + u**2*x)) + \n",
    "           8*A0t**4*B3t*f**2*h*u*x*(h*x*(8*dfdx - u**2*x) + 2*f*(3 + h + 40*pi*w0*x**2 + 8*dw0dx*pi*x**3)) + \n",
    "           2*h*u*math.sqrt(A0t*(A0t*dfdx - 2*f*u)*x)*(4*f + dfdx*x)**2*math.sqrt(f*h*(4*f + dfdx*x))*\n",
    "            ((h*x*(2*dfdx + u**2*x))/2. - f*(1 + 3*h - 8*pi*x**2*y)) + \n",
    "           4*A0t**2*B3t*f**2*u*x*((h*x**2*(-(h*(2*dfdx**2 + 7*dfdx*u**2*x + u**4*x**2)) + dfdx*(2*dfdx + u**2*x)*(1 + 8*pi*w0*x**2)))/\n",
    "               2. + f*x*(-(h**2*(23*dfdx + 29*u**2*x)) + \n",
    "                 h*(4*dfdx*(1 + 12*pi*w0*x**2 + 2*dw0dx*pi*x**3) + u**2*(5*x + 56*pi*w0*x**3 + 8*dw0dx*pi*x**4)) + \n",
    "                 dfdx*(-1 - 8*pi*w0*x**2)*(1 - 8*pi*x**2*y)) - \n",
    "              4*f**2*(19*h**2 - 8*h*pi*x**2*(2*w0 + dw0dx*x) + (1 + 8*pi*w0*x**2)*(1 - 8*pi*x**2*y))) + \n",
    "           8*A0t**3*B3t*f**2*(-(h*x**2*(h*(-8*dfdx**2 - 5*dfdx*u**2*x + 2*u**4*x**2) + dfdx*(2*dfdx + u**2*x)*(-1 - 8*pi*w0*x**2)))/2. + \n",
    "              f*x*(h**2*(17*dfdx - 20*u**2*x) + 4*h*(dfdx + 2*u**2*x)*(1 + 12*pi*w0*x**2 + 2*dw0dx*pi*x**3) + \n",
    "                 dfdx*(-1 - 8*pi*w0*x**2)*(1 - 8*pi*x**2*y)) + \n",
    "              4*f**2*(h**2 + 8*h*pi*x**2*(2*w0 + dw0dx*x) - (1 + 8*pi*w0*x**2)*(1 - 8*pi*x**2*y))))/(4.*f*h*x*(h*math.sqrt(A0t*(A0t*dfdx - 2*f*u)*x)*(4*f + dfdx*x)**2*math.sqrt(f*h*(4*f + dfdx*x)) + \n",
    "             4*A0t**3*B3t*f*u*x**2*(h*x*(dfdx + u**2*x) + 2*f*(-1 + 2*h - 8*pi*w0*x**2)) + \n",
    "             4*A0t**4*B3t*f*x*(h*u**2*x**2 - 2*f*(1 + 8*pi*w0*x**2)) + \n",
    "             A0t**2*B3t*f*x*(16*f**2*h + h*x**2*(dfdx + u**2*x)**2 + 2*f*x*(4*dfdx*h - u**2*x*(1 - 4*h + 8*pi*w0*x**2)))))\n",
    "    dhdx=-(h*(4*A0t*B3t*f**2*h*u**3*x**4*(4*f + dfdx*x) - \n",
    "              8*A0t**4*B3t*f**2*x*(2*f*(-1 + h + 8*pi*w0*x**2 + 8*dw0dx*pi*x**3) + \n",
    "                 x*(-(h*(-8*dfdx + u**2*x + 2*dudx*u*x**2)) + 2*dfdx*(1 + 8*pi*w0*x**2))) + \n",
    "              8*A0t**3*B3t*f**2*x**2*(x*(h*(-3*dfdx*u + dfdx*dudx*x + u**3*x + 2*dudx*u**2*x**2) - 2*dfdx*u*(1 + 8*pi*w0*x**2)) + \n",
    "                 2*f*(2*dudx*h*x + u*(1 + 9*h - 8*pi*w0*x**2 - 8*dw0dx*pi*x**3))) + \n",
    "              2*A0t**2*B3t*f**2*u*x**3*(x*(h*(6*dfdx*u + 2*dfdx*dudx*x + u**3*x + 2*dudx*u**2*x**2) - 2*dfdx*u*(1 + 8*pi*w0*x**2)) + \n",
    "                 2*f*(4*dudx*h*x + u*(1 + 27*h - 8*pi*w0*x**2 - 8*dw0dx*pi*x**3))) - \n",
    "              math.sqrt(A0t*(A0t*dfdx - 2*f*u)*x)*(4*f + dfdx*x)**2*math.sqrt(f*h*(4*f + dfdx*x))*(h*u**2*x**2 + 2*f*(-1 + h + 8*pi*x**2*y))))/(2.*f*x*(-(h*math.sqrt(A0t*(A0t*dfdx - 2*f*u)*x)*(4*f + dfdx*x)**2*math.sqrt(f*h*(4*f + dfdx*x))) + \n",
    "             8*A0t**4*B3t*f**2*x*(1 + 8*pi*w0*x**2) + 8*A0t**3*B3t*f**2*u*x**2*(1 + 8*pi*w0*x**2) + \n",
    "             2*A0t**2*B3t*f**2*u**2*x**3*(1 + 8*pi*w0*x**2)))\n",
    "    return np.array([dw0dx, dmdx, dA0tdx, dudx, dfdx, dhdx])"
   ]
  },
  {
   "cell_type": "code",
   "execution_count": 6,
   "metadata": {},
   "outputs": [],
   "source": [
    "def feqssolv(w0c):\n",
    "    eqs1=ode(feqs1)\n",
    "    eqs2=ode(feqs2)\n",
    "    eqs1.set_integrator('dopri5', atol=1e-10)\n",
    "    eqs2.set_integrator('dopri5', atol=1e-10)\n",
    "    x=np.arange(1e-3, 0.23, dx) \n",
    "    m=np.zeros_like(x)\n",
    "    w0=np.zeros_like(x)\n",
    "    A0t=np.zeros_like(x)\n",
    "    u=np.zeros_like(x)\n",
    "    f=np.zeros_like(x)\n",
    "    h=np.zeros_like(x)\n",
    "    A1=np.zeros_like(x)\n",
    "    \n",
    "    w0gen=-0.00008571816047363416*w0c**0.8547008547008548 - 0.00007359337903914217*w0c**1.4273504273504274 - 0.00001370151503051481*w0c**2 + a0b**3*w0c**0.4273504273504274*B3t*(3.9984082211886983e-7*a0b*B3t - 1.9992041105943491e-7*a0b**3*B3t - 3.9984082211886983e-7*math.sqrt(6.3974531539019175*w0c**0.4273504273504274 + 0.746268656716418*w0c)*math.sqrt((33.510321638291124*w0c**0.4273504273504274 + 19.623225775939883*w0c + a0b**2*(0.1563122036134149 - 0.1563122036134149*a0b**2 + 0.03907805090335373*a0b**4)*B3t**2)/(1.*w0c**0.4273504273504274 + 0.11665089821896636*w0c))) + w0c*(1. + a0b**3*B3t*(1.0914179104477613e-7*a0b*B3t - 5.4570895522388064e-8*a0b**3*B3t - 1.0914179104477613e-7*math.sqrt(6.3974531539019175*w0c**0.4273504273504274 + 0.746268656716418*w0c)*math.sqrt((33.510321638291124*w0c**0.4273504273504274 + 19.623225775939883*w0c + a0b**2*(0.1563122036134149 - 0.1563122036134149*a0b**2 + 0.03907805090335373*a0b**4)*B3t**2)/(1.*w0c**0.4273504273504274 + 0.11665089821896636*w0c))))\n",
    "    A0t0gen=a0b*(0.7071067811865476 + a0b*B3t*(-8.838834764831842e-8*a0b*B3t + 4.419417382415921e-8*a0b**3*B3t + 8.838834764831845e-8*math.sqrt(6.3974531539019175*w0c**0.4273504273504274 + 0.746268656716418*w0c)*math.sqrt((33.510321638291124*w0c**0.4273504273504274 + 19.623225775939883*w0c + a0b**2*(0.1563122036134149 - 0.1563122036134149*a0b**2 + 0.03907805090335373*a0b**4)*B3t**2)/(1.*w0c**0.4273504273504274 + 0.11665089821896636*w0c))))\n",
    "    u0gen=a0b**2*B3t*(-0.00017677669529663682*a0b*B3t + 0.00008838834764831841*a0b**3*B3t + 0.00017677669529663688*math.sqrt(6.3974531539019175*w0c**0.4273504273504274 + 0.746268656716418*w0c)*math.sqrt((33.510321638291124*w0c**0.4273504273504274 + 19.623225775939883*w0c + a0b**2*(0.1563122036134149 - 0.1563122036134149*a0b**2 + 0.03907805090335373*a0b**4)*B3t**2)/(1.*w0c**0.4273504273504274 + 0.11665089821896636*w0c)))\n",
    "    f0gen=1 + 0.000026797589106644154*w0c**0.4273504273504274 + 0.000015692333453752*w0c + a0b**3*B3t*(-1.2499999999999997e-7*a0b*B3t + 6.249999999999998e-8*a0b**3*B3t + 1.25e-7*math.sqrt(6.3974531539019175*w0c**0.4273504273504274 + 0.746268656716418*w0c)*math.sqrt((33.510321638291124*w0c**0.4273504273504274 + 19.623225775939883*w0c + a0b**2*(0.1563122036134149 - 0.1563122036134149*a0b**2 + 0.03907805090335373*a0b**4)*B3t**2)/(1.*w0c**0.4273504273504274 + 0.11665089821896636*w0c)))\n",
    "    h0gen=1 - 0.0000535951782132883*w0c**0.4273504273504274 - 6.251925678785657e-6*w0c +a0b**3*B3t*(2.499999999999999e-7*a0b*B3t - 1.2499999999999994e-7*a0b**3*B3t - 2.4999999999999994e-7*math.sqrt(6.3974531539019175*w0c**0.4273504273504274 + 0.746268656716418*w0c)*math.sqrt((33.510321638291124*w0c**0.4273504273504274 + 19.623225775939883*w0c + a0b**2*(0.1563122036134149 - 0.1563122036134149*a0b**2 + 0.03907805090335373*a0b**4)*B3t**2)/(1.*w0c**0.4273504273504274 + 0.11665089821896636*w0c)))\n",
    "    m0gen= 6.3974531539019175e-9*w0c**0.4273504273504274 + 7.46268656716418e-10*w0c + a0b**3*B3t*(-2.984155182973037e-11*a0b*B3t + 1.4920775914865186e-11*a0b**3*B3t + 2.984155182973038e-11*math.sqrt(6.3974531539019175*w0c**0.4273504273504274 + 0.746268656716418*w0c)*math.sqrt((33.510321638291124*w0c**0.4273504273504274 + 19.623225775939883*w0c + a0b**2*(0.1563122036134149 - 0.1563122036134149*a0b**2 + 0.03907805090335373*a0b**4)*B3t**2)/(1.*w0c**0.4273504273504274 + 0.11665089821896636*w0c)))\n",
    "    \n",
    "    m[0]=m0gen\n",
    "    w0[0]=w0gen\n",
    "    A0t[0]=A0t0gen\n",
    "    u[0]=u0gen\n",
    "    f[0]=f0gen\n",
    "    h[0]=h0gen\n",
    "    z=np.array([w0[0], m[0], A0t[0], u[0], f[0], h[0]]) \n",
    "    eqs1.set_initial_value(z,x[0])\n",
    "    i=0\n",
    "    while eqs1.successful()  and w0[i] > 0.0 and i < len(x)-1:\n",
    "        eqs1.integrate(x[i] + dx)\n",
    "        w0[i+1] = eqs1.y[0]\n",
    "        m[i+1] = eqs1.y[1]\n",
    "        A0t[i+1]=eqs1.y[2]\n",
    "        u[i+1] = eqs1.y[3]\n",
    "        f[i+1] = eqs1.y[4]\n",
    "        h[i+1] = eqs1.y[5]\n",
    "        i=i+1\n",
    "    \n",
    "    xest=x[i-1]\n",
    "    i=i-1\n",
    "    z1=np.array([w0[i], m[i], A0t[i], u[i], f[i], h[i]])\n",
    "    eqs2.set_initial_value(z1,xest)\n",
    "    \n",
    "    while eqs2.successful() and i < len(x)-1:\n",
    "        eqs2.integrate(x[i] + dx)\n",
    "        w0[i+1] = eqs2.y[0]\n",
    "        m[i+1] = eqs2.y[1]\n",
    "        A0t[i+1]=eqs2.y[2]\n",
    "        u[i+1] = eqs2.y[3]\n",
    "        f[i+1] = eqs2.y[4]\n",
    "        h[i+1] = eqs2.y[5]\n",
    "        i=i+1\n",
    "    A1t=vf1(x,A0t,f,h,u,w0)\n",
    "    return [x, w0, m, A0t, u, f, h, A1t]"
   ]
  },
  {
   "cell_type": "code",
   "execution_count": 7,
   "metadata": {},
   "outputs": [],
   "source": [
    "Gamma = 2.34\n",
    "k=0.0130\n",
    "dx=0.0001"
   ]
  },
  {
   "cell_type": "code",
   "execution_count": 8,
   "metadata": {
    "scrolled": true
   },
   "outputs": [
    {
     "name": "stderr",
     "output_type": "stream",
     "text": [
      "/home/william/anaconda3/lib/python3.7/site-packages/ipykernel_launcher.py:2: RuntimeWarning: invalid value encountered in double_scalars\n",
      "  \n",
      "/home/william/anaconda3/lib/python3.7/site-packages/scipy/integrate/_ode.py:1177: UserWarning: dopri5: step size becomes too small\n",
      "  self.messages.get(istate, unexpected_istate_msg)))\n"
     ]
    }
   ],
   "source": [
    "B3t=-1\n",
    "a0b=2.2\n",
    "mod1=feqssolv(3.168)"
   ]
  },
  {
   "cell_type": "code",
   "execution_count": 9,
   "metadata": {
    "scrolled": true
   },
   "outputs": [
    {
     "name": "stderr",
     "output_type": "stream",
     "text": [
      "/home/william/anaconda3/lib/python3.7/site-packages/ipykernel_launcher.py:2: RuntimeWarning: invalid value encountered in double_scalars\n",
      "  \n"
     ]
    }
   ],
   "source": [
    "B3t=1\n",
    "a0b=2.0\n",
    "mod2=feqssolv(10.9386)"
   ]
  },
  {
   "cell_type": "code",
   "execution_count": 10,
   "metadata": {},
   "outputs": [
    {
     "name": "stderr",
     "output_type": "stream",
     "text": [
      "/home/william/anaconda3/lib/python3.7/site-packages/ipykernel_launcher.py:2: RuntimeWarning: invalid value encountered in double_scalars\n",
      "  \n"
     ]
    }
   ],
   "source": [
    "B3t=0.000001\n",
    "a0b=0.0000001\n",
    "modRG=feqssolv(7.505)"
   ]
  },
  {
   "cell_type": "code",
   "execution_count": null,
   "metadata": {},
   "outputs": [],
   "source": []
  }
 ],
 "metadata": {
  "kernelspec": {
   "display_name": "Python 3",
   "language": "python",
   "name": "python3"
  },
  "language_info": {
   "codemirror_mode": {
    "name": "ipython",
    "version": 3
   },
   "file_extension": ".py",
   "mimetype": "text/x-python",
   "name": "python",
   "nbconvert_exporter": "python",
   "pygments_lexer": "ipython3",
   "version": "3.7.6"
  }
 },
 "nbformat": 4,
 "nbformat_minor": 2
}
